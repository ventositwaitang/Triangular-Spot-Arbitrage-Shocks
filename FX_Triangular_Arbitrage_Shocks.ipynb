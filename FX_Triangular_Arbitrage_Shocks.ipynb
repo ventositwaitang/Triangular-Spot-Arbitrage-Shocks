{
  "nbformat": 4,
  "nbformat_minor": 0,
  "metadata": {
    "colab": {
      "provenance": []
    },
    "kernelspec": {
      "name": "python3",
      "display_name": "Python 3"
    },
    "language_info": {
      "name": "python"
    }
  },
  "cells": [
    {
      "cell_type": "markdown",
      "metadata": {
        "id": "eKH6yfJSsgW1"
      },
      "source": [
        "## Triangle Spot arbitrage"
      ]
    },
    {
      "cell_type": "markdown",
      "source": [
        "Fair price:\n",
        "$$\n",
        "\\text{EUR}JPY_{\\text{Ask}} \\sim \\text{EUR}USD_{\\text{Ask}} \\times \\text{USD}JPY_{\\text{Ask}} (Buy)\n",
        "$$\n",
        "$$\n",
        " EUR\\text{JPY}_{\\text{Bid}} \\sim EUR\\text{USD}_{\\text{Bid}}\\times USD\\text{JPY}_{\\text{Bid}} (Sell)\n",
        "$$"
      ],
      "metadata": {
        "id": "gF_p1lEksgW1"
      }
    },
    {
      "cell_type": "markdown",
      "source": [
        "> Arbitrage when:\n",
        "$$\n",
        " \\text{EUR}jpy_{\\text{Ask}} > \\text{EUR}usd_{\\text{Ask}} \\times \\text{USD}jpy_{\\text{Ask}} (buy-low)\n",
        "$$(Sell high) $eur\\text{JPY}_{\\text{Bid}}$\n",
        "$$\n",
        " eur\\text{JPY}_{\\text{Bid}} < eur\\text{USD}_{\\text{Bid}}\\times usd\\text{JPY}_{\\text{Bid}} (Sell-high)\n",
        "$$(Buy low) $\\text{EUR}jpy_{\\text{Ask}}$\n"
      ],
      "metadata": {
        "id": "6g232EfasgW2"
      }
    },
    {
      "cell_type": "markdown",
      "source": [
        "> Long only when:\n",
        "$$\n",
        "\\text{EUR}jpy_{\\text{Ask}} > \\text{EUR}usd_{\\text{Ask}} \\times \\text{USD}jpy_{\\text{Ask}}\n",
        "$$(Buy $\\text{EUR}usd_{\\text{Ask}} \\times \\text{USD}jpy_{\\text{Ask}}$)\n",
        "$$\n",
        "eur\\text{JPY}_{\\text{Bid}} < eur\\text{USD}_{\\text{Bid}}\\times usd\\text{JPY}_{\\text{Bid}}\n",
        "$$\n",
        "(Buy $\\text{EUR}jpy_{\\text{Ask}}$)"
      ],
      "metadata": {
        "id": "hWhEwn4FsgW2"
      }
    },
    {
      "cell_type": "code",
      "source": [
        "self.broker.xchg.trading_fee = 0.01 # JPY special pip, 0.0001 normally\n",
        "tx = 1 - self.broker.xchg.trading_fee # scaled 1 pip for transaction(spread/slippage..etc.)\n",
        "thres = 0.01 #in Deno(EUR) ## entry at least +0.01 EUR profitable as\n",
        "## we set base in (JPY)\n",
        "\n",
        "#fetch pair quotes seperately\n",
        "quotes={'EURJPY':{\n",
        "        \"ask_price\": float(self.broker.get_lowest_ask('EURJPY')),\n",
        "        \"bid_price\": float(self.broker.get_highest_bid('EURJPY'))},\n",
        "    'EURUSD':{\n",
        "        \"ask_price\": float(self.broker.get_lowest_ask('EURUSD')),\n",
        "        \"bid_price\": float(self.broker.get_highest_bid('EURUSD'))},\n",
        "    'USDJPY':{\n",
        "        \"ask_price\": float(self.broker.get_lowest_ask('USDJPY')),\n",
        "        \"bid_price\": float(self.broker.get_highest_bid('USDJPY'))}}\n",
        "# tradable edge\n",
        "## buy*buy <sell\n",
        "implied_lo_ask = (quotes[\"EURUSD\"][\"ask_price\"]/tx)*(quotes[\"USDJPY\"][\"ask_price\"]/tx)\n",
        "long_entry = (implied_lo_ask -thres*1) /tx #in EUR value\n",
        "\n",
        "## sell*sell >buy\n",
        "implied_hi_bid = (quotes[\"EURUSD\"][\"bid_price\"]*tx)*(quotes[\"USDJPY\"][\"bid_price\"]*tx)\n",
        "short_entry = (implied_hi_bid -thres*quotes[\"EURJPY\"][\"bid_price\"]) *tx #in JPY value\n",
        "\n",
        "## we set base in (JPY) perspective\n",
        "# be careful: value(Base-> *ask), (Base<- *bid) , action (Base-> *ask/tx), (Base<- *bid*tx)\n",
        "\n",
        "# buy Deno(EUR) @implied_lo_ask (< ask /tx) |in EUR|> sell Deno(EUR) @hi_bid(= ask+spread) *tx +thres*ask |in JPY|\n",
        "if long_entry < quotes[\"EURJPY\"][\"ask_price\"]:\n",
        "\n",
        "  Qty = 1\n",
        "  print(f'Buy {quotes.key(2)}: {Qty}@{quotes[\"USDJPY\"][\"ask_price\"]}\\n')\n",
        "  print(f'Buy {quotes.key(1)}: {Qty}@{quotes[\"EURUSD\"][\"ask_price\"]}\\n')\n",
        "  print(f'sell {quotes.key(0)}: {Qty}@{quotes[\"EURJPY\"][\"bid_price\"]}\\n') #can try sell @ask_price in 3mins expire if high liquidity\n",
        "# sell Deno(EUR) @implied_hi_bid (> bid *tx) |in JPY|> buy Deno(EUR) @lo_ask(= bid+spread) /tx +thres |in EUR|\n",
        "if short_entry > quotes[\"EURJPY\"][\"bid_price\"]:\n",
        "\n",
        "  Qty = 1\n",
        "  print(f'Buy {quotes.key(2)}: {Qty}@{quotes[\"EURJPY\"][\"ask_price\"]}\\n') #can try buy @bid_price in 3mins expire if high liquidity\n",
        "  print(f'Sell {quotes.key(1)}: {Qty}@{quotes[\"EURUSD\"][\"bid_price\"]}\\n')\n",
        "  print(f'sell {quotes.key(0)}: {Qty}@{quotes[\"USDJPY\"][\"bid_price\"]}\\n')\n"
      ],
      "metadata": {
        "id": "jIw9yPLvsgW2"
      },
      "execution_count": null,
      "outputs": []
    },
    {
      "cell_type": "code",
      "source": [
        "#@title multiprocessing trail\n",
        "import multiprocessing #consider read data from output of calculating prob density distribution task\n",
        "import pandas as pd\n",
        "## buy*buy <sell\n",
        "def bbs(ask: float)->float:\n",
        "    long_entry = ((quotes[\"EURUSD\"][\"ask_price\"]/tx)*(quotes[\"USDJPY\"][\"ask_price\"]/tx) -thres*1) /tx #in EUR value\n",
        "    #/return long_entry /\n",
        "    #generate output table file/weighting/document\n",
        "\n",
        "## sell*sell >buy\n",
        "def ssb(bid: float)->float:\n",
        "    short_entry = ((quotes[\"EURUSD\"][\"bid_price\"]*tx)*(quotes[\"USDJPY\"][\"bid_price\"]*tx) -thres*quotes[\"EURJPY\"][\"bid_price\"]) *tx #in JPY value\n",
        "    #/return short_entry/\n",
        "    #generate output table file/weighting/document\n",
        "\n",
        "if __name__=='__main__':\n",
        "    #pool = Pool(2) #we don't limit process\n",
        "    #pool.apply(func=fun1, args=(str, int, list, dict))\n",
        "    long_entry = multiprocessing.Value('f', quotes[\"EURUSD\"][\"bid_price\"]) #'f' float 8 no.\n",
        "    short_entry = multiprocessing.Value('f', quotes[\"EURUSD\"][\"ask_price\"]) #'f' float 8 no.\n",
        "\n",
        "    bbs = multiprocessing.Process(target=bbs, arg=(long_entry))\n",
        "    ssb = multiprocessing.Process(target=ssb, arg=(short_entry))\n",
        "    bbs.start()\n",
        "    ssb.start()\n",
        "    #pool.close()\n",
        "    bbs.join()\n",
        "    ssb.join()\n",
        "\n",
        "    df = pd.read_csv('.csv')\n",
        "    # buy Deno(EUR) @implied_lo_ask (< ask /tx) |in EUR|> sell Deno(EUR) @hi_bid(= ask+spread) *tx +thres*ask |in JPY|\n",
        "    if df['long_entry'] < quotes[\"EURJPY\"][\"ask_price\"] :\n",
        "\n",
        "      Qty = 1\n",
        "      print(f'Buy {quotes.key(2)}: {Qty}@{quotes[\"USDJPY\"][\"ask_price\"]}\\n')\n",
        "      print(f'Buy {quotes.key(1)}: {Qty}@{quotes[\"EURUSD\"][\"ask_price\"]}\\n')\n",
        "      print(f'sell {quotes.key(0)}: {Qty}@{quotes[\"EURJPY\"][\"bid_price\"]}\\n') #can try sell @ask_price in 3mins expire if high liquidity\n",
        "    # sell Deno(EUR) @implied_hi_bid (> bid *tx) |in JPY|> buy Deno(EUR) @lo_ask(= bid+spread) /tx +thres |in EUR|\n",
        "    if df['short_entry'] > quotes[\"EURJPY\"][\"bid_price\"] :\n",
        "\n",
        "      Qty = 1\n",
        "      print(f'Buy {quotes.key(2)}: {Qty}@{quotes[\"EURJPY\"][\"ask_price\"]}\\n') #can try buy @bid_price in 3mins expire if high liquidity\n",
        "      print(f'Sell {quotes.key(1)}: {Qty}@{quotes[\"EURUSD\"][\"bid_price\"]}\\n')\n",
        "      print(f'sell {quotes.key(0)}: {Qty}@{quotes[\"USDJPY\"][\"bid_price\"]}\\n')\n"
      ],
      "metadata": {
        "cellView": "form",
        "id": "tWIIrVoXXvJj"
      },
      "execution_count": null,
      "outputs": []
    },
    {
      "cell_type": "markdown",
      "metadata": {
        "id": "IxXdcBG6sgW4"
      },
      "source": [
        "## Triangle arbitrage with implied USD rate in EURJPY mid-market spot rate"
      ]
    },
    {
      "cell_type": "markdown",
      "metadata": {
        "id": "iQWOrghVsgW4"
      },
      "source": [
        "Today is October 27th, 2015. November 3rd is a good business day for all three currencies.\n",
        "\n",
        "The EURUSD mid-market spot rate is 1.1300 (the price of a EUR in USD) and the USDJPY mid-market spot rate is 120.00 (the price of a USD in JPY). The USD interest rate is 0.25%, the EUR interest rate is 0.50%, and the JPY interest rate is 0.10%.\n",
        "Use Actural/365 day-count convention, and pick Oct 27 as a common starting point,\n",
        "$$\n",
        "\\text{EURJPY}^{\\text{Nov 3}} = \\text{EURJPY}^{\\text{Oct 27}}\\times \\exp\\left[(r_{\\text{JPY}}-r_{\\text{EUR}})\\frac{7}{365}\\right]\\\\\n",
        "\\text{USDJPY}^{\\text{Nov 2}} = \\text{USDJPY}^{\\text{Oct 27}}\\times \\exp\\left[(r_{\\text{JPY}}-r_{\\text{USD}})\\frac{6}{365}\\right]\\\\\n",
        "\\text{EURUSD}^{\\text{Oct 29}} = \\text{EURUSD}^{\\text{Oct 27}}\\times \\exp\\left[(r_{\\text{USD}}-r_{\\text{EUR}})\\frac{2}{365}\\right]\\\\\n",
        "$$\n",
        "and the triangle relation on Oct 27, (instead of <span style=\"color:red\">triangle</span>, I would rather call this relation <span style=\"color:red\">cyclic</span> as $\\text{EURJPY}\\times \\text{JPYUSD} \\times \\text{USDEUR} = 1$):\n",
        "$$\n",
        "\\frac{\\text{EURJPY}^{\\text{Oct 27}}}{\\text{EURUSD}^{\\text{Oct 27}} \\times \\text{USDJPY}^{\\text{Oct 27}}} = 1,\n",
        "$$\n",
        "we get\n",
        "$$\n",
        "\\frac{\\text{EURJPY}^{\\text{Nov 3}} \\exp\\left[-(r_{\\text{JPY}}-r_{\\text{EUR}})\\frac{7}{365}\\right]}{ \\text{EURUSD}^{\\text{Oct 29}} \\exp\\left[-(r_{\\text{USD}}-r_{\\text{EUR}})\\frac{2}{365}\\right]\\times \\text{USDJPY}^{\\text{Nov 2}}\\exp\\left[-(r_{\\text{JPY}}-r_{\\text{USD}})\\frac{6}{365}\\right]} = 1,\n",
        "$$\n",
        "or\n",
        "\\begin{eqnarray}\n",
        "\\text{EURJPY}^{\\text{Nov 3}} &=& \\text{EURUSD}^{\\text{Oct 29}}\\times \\text{USDJPY}^{\\text{Nov 2}}\\times \\exp\\left[-(r_{\\text{USD}}-r_{\\text{EUR}})\\frac{2}{365}-(r_{\\text{JPY}}-r_{\\text{USD}})\\frac{6}{365}+(r_{\\text{JPY}}-r_{\\text{EUR}})\\frac{7}{365}\\right]\\\\\n",
        "&=& \\text{EURUSD}^{\\text{Oct 29}}\\times \\text{USDJPY}^{\\text{Nov 2}}\\times \\exp\\left[ r_{\\text{USD}}\\frac{4}{365} + r_{\\text{JPY}}\\frac{1}{365} - r_{\\text{EUR}}\\frac{5}{365}\\right]\\\\\n",
        "&=& 1.13 \\times 120 \\times \\exp\\left[ 0.0025\\times\\frac{4}{365} + 0.001\\times\\frac{1}{365} - 0.005\\times \\frac{5}{365}\\right]\\\\\n",
        "&\\approx& 135.5948.\n",
        "\\end{eqnarray}"
      ]
    },
    {
      "cell_type": "markdown",
      "metadata": {
        "id": "jMrfWEAfsgW5"
      },
      "source": [
        "Assume zero bid/ask spread in interest rates, Take the bid/ask for EURUSD as 1.1299/1.1301, USDJPY as 119.99/120.01.\n",
        "\n",
        "The bid/ask for EURJPY implied from the triangle arbitrage:\n",
        "\n",
        "Using the same formula for bid and ask respectively,\n",
        "\\begin{eqnarray}\n",
        "\\text{EURJPY}^{\\text{Nov 3}} &=& \\text{EURUSD}^{\\text{Oct 29}}\\times \\text{USDJPY}^{\\text{Nov 2}}\\times \\exp\\left[ r_{\\text{USD}}\\frac{4}{365} + r_{\\text{JPY}}\\frac{1}{365} - r_{\\text{EUR}}\\frac{5}{365}\\right].\n",
        "\\end{eqnarray}\n",
        "Thus, with exactly the same discounting factors,\n",
        "\\begin{eqnarray}\n",
        "\\text{EURJPY}^{\\text{Nov 3}}_{\\text{Ask}} &=& 1.1301 \\times 120.01 \\times \\exp\\left[ 0.0025\\times\\frac{4}{365} + 0.001\\times\\frac{1}{365} - 0.005\\times \\frac{5}{365}\\right]\\\\\n",
        "&\\approx& 135.6181.\\\\\n",
        "\\text{EURJPY}^{\\text{Nov 3}}_{\\text{Bid}} &=& 1.1299 \\times 119.99 \\times \\exp\\left[ 0.0025\\times\\frac{4}{365} + 0.001\\times\\frac{1}{365} - 0.005\\times \\frac{5}{365}\\right]\\\\\n",
        "&\\approx& 135.5715.\n",
        "\\end{eqnarray}\n",
        "\n",
        "---------------------------\n",
        "Spot Triangle Arbitrage\n",
        "\n",
        "$$\n",
        "\\text{EUR}JPY_{\\text{Bid}} \\sim \\text{EUR}USD_{\\text{Bid}} \\times \\text{USD}JPY_{\\text{Bid}}\n",
        "$$\n",
        "\n",
        "if EURUSD is quoted in USDEUR? Then\n",
        "\n",
        "$$\n",
        "EUR\\text{JPY}_{\\text{Ask}} \\sim \\frac{USD\\text{JPY}_{\\text{Ask}}}{\\text{USD}EUR_{\\text{Bid}}}\n",
        "$$\n",
        "In real market, sell in bid price to get reverse rate into value calculate"
      ]
    },
    {
      "cell_type": "markdown",
      "metadata": {
        "id": "yFBHVddSrk4Q"
      },
      "source": [
        "## Triangle & IRC Factor FX forward shock\n"
      ]
    },
    {
      "cell_type": "markdown",
      "metadata": {
        "id": "3-rvZVyQrk4R"
      },
      "source": [
        "PnL calculation: for a forward settling in time $T$, a forward settling in time $T$ which lies between two benchmark settlement dates  $T_1$  and  $T_2$, Derive the notionals $N_1$ and $N_2$ of the benchmark forwards which hedge the portfolio risk assuming triangle shocks to the benchmark non-USD interest rates\n",
        "\n",
        " Receiving 1 unit of asset currency, paying $K$ units of denominated currency, is equivalent to being long 1 unit of a zero coupon bond in asset currency and being short $K$ units of a zero coupon bond in denominated currency, the price of which at spot time $t=0$ is\n",
        "$$\n",
        "V(T) = S_0 e^{-Q(T)T} - K e^{-R(T)T},\n",
        "$$\n",
        "where $S_0$ is the current spot exchange rate. Similarly,\n",
        "\\begin{eqnarray}\n",
        "V(T_1) = S_0 e^{-Q(T_1)T_1} - K e^{-R(T_1)T_1},\\\\\n",
        "V(T_2) = S_0 e^{-Q(T_2)T_2} - K e^{-R(T_2)T_2}.\n",
        "\\end{eqnarray}\n",
        "Construct a portfolio that's long one unit of $V(T)$, short $N_1$ units of $V(T_1)$ and $N_2$ units of $V(T_2)$:\n",
        "$$\n",
        "\\Pi = V(T) - N_1 V(T_1) - N_2 V(T_2),\n",
        "$$\n",
        "such that the risk to moving rates $Q(T_1)$ and $Q(T_2)$ is hedged:\n",
        "\\begin{eqnarray}\n",
        "\\frac{d \\Pi}{d Q(T_1)} = \\frac{\\partial \\Pi}{\\partial Q(T_1)} + \\frac{\\partial \\Pi}{\\partial Q(T)}\\frac{\\partial Q(T)}{\\partial Q(T_1)} = S_0 \\left[N_1 T_1  e^{-Q(T_1)T_1} - T  e^{-Q(T)T} \\frac{\\partial Q(T)}{\\partial Q(T_1)}\\right] =0,\\\\\n",
        "\\frac{d \\Pi}{d Q(T_2)} = \\frac{\\partial \\Pi}{\\partial Q(T_2)} + \\frac{\\partial \\Pi}{\\partial Q(T)}\\frac{\\partial Q(T)}{\\partial Q(T_2)}=  S_0 \\left[N_2 T_2  e^{-Q(T_2)T_2} - T e^{-Q(T)T} \\frac{\\partial Q(T)}{\\partial Q(T_1)}\\right] =0.\n",
        "\\end{eqnarray}\n",
        "Assuming a triangle-shock impact to $Q(T)$,\n",
        "\\begin{eqnarray}\n",
        "\\frac{\\partial Q(T)}{\\partial Q(T_1)} = \\frac{T_2 - T}{T_2-T_1}, \\text{ shocked at }T_1\\text{ and fixed at }T_2\\text{, linear interpolate between }T_2\\text{ and }T_1\\text{ at }T,\\\\\n",
        "\\frac{\\partial Q(T)}{\\partial Q(T_2)} = \\frac{T - T_1}{T_2-T_1}, \\text{ shocked at }T_2\\text{ and fixed at }T_1\\text{, linear interpolate between }T_2\\text{ and }T_1\\text{ at }T,\n",
        "\\end{eqnarray}\n",
        "we get\n",
        "\\begin{eqnarray}\n",
        "N_1 T_1  e^{-Q(T_1)T_1} - T  e^{-Q(T)T} \\left(\\frac{T_2 - T}{T_2-T_1}\\right) =0 \\Rightarrow N_1 = \\left(\\frac{T_2 - T}{T_2-T_1}\\right) \\frac{T}{T_1}  e^{-Q(T)(T-T_1)}, \\\\\n",
        "N_2 T_2  e^{-Q(T_2)T_2} - T  e^{-Q(T)T} \\left(\\frac{T - T_1}{T_2-T_1}\\right) =0\\Rightarrow N_2 = \\left(\\frac{T - T_1}{T_2-T_1}\\right) \\frac{T}{T_2}  e^{-Q(T)(T-T_2)}.\n",
        "\\end{eqnarray}\n"
      ]
    },
    {
      "cell_type": "markdown",
      "metadata": {
        "id": "J9ecxljhrk4S"
      },
      "source": [
        "construct a portfolio that's long one unit of $V(T)$, short $N_1$ units of $V(T_1)$ and $N_2$ units of $V(T_2)$:\n",
        "$$\n",
        "\\Pi = V(T) - N_1 V(T_1) - N_2 V(T_2),\n",
        "$$\n",
        "\n",
        "The change in the price of that forward under a shock $dQ(T)$ is then\n",
        "$$\n",
        "dV(T) = S_0 \\left[ e^{-(Q(T)+dQ(T))T} - e^{-Q(T)T} \\right] = S_0e^{-Q(T)T} \\left[ e^{-dQ(T)T} - 1\\right],\n",
        "$$\n",
        "independent of the forward strike $K$ or the interest rate $R$ of the denominated currency. The PnL calculation of the portfolio is thus\n",
        "$$\n",
        "dV(T)-N_1 dV(T_1) - N_2 dV(T_2).\n",
        "$$"
      ]
    },
    {
      "cell_type": "markdown",
      "source": [
        "-------------------------\n",
        "\n",
        "For shocks from factors,\n",
        "\\begin{eqnarray}\n",
        "dQ(T_1) = \\sigma_1 e^{-\\beta_1 T_1}dz_1 + \\sigma_2 e^{-\\beta_2 T_1}dz_2,\\\\\n",
        "dQ(T_2) = \\sigma_1 e^{-\\beta_1 T_2}dz_1 + \\sigma_2 e^{-\\beta_2 T_2}dz_2.\n",
        "\\end{eqnarray}\n",
        "For $Q(T_1)$ shocked and $Q(T_2)$ fixed,\n",
        "$$\n",
        "dQ(T_2) = \\sigma_1 e^{-\\beta_1 T_2}dz_1 + \\sigma_2 e^{-\\beta_2 T_2}dz_2 = 0 \\Rightarrow \\frac{dz_1}{dz_2} = -\\frac{\\sigma_2 e^{-\\beta_2 T_2}}{\\sigma_1 e^{-\\beta_1 T_2}}.\n",
        "$$\n",
        "Substitute back to $dQ(T_1) = \\sigma_1 e^{-\\beta_1 T_1}dz_1 + \\sigma_2 e^{-\\beta_2 T_1}dz_2$, we get\n",
        "\\begin{eqnarray}\n",
        "\\sigma_1dz_1 &=& \\frac{e^{-\\beta_2 T_2}}{e^{-\\beta_1 T_1  - \\beta_2 T_2 } - e^{-\\beta_1 T_2  - \\beta_2 T_1  }}dQ(T_1),\\\\\n",
        "\\sigma_2dz_2 &=& -\\frac{e^{-\\beta_1 T_2}}{e^{-\\beta_1 T_1  - \\beta_2 T_2 } - e^{-\\beta_1 T_2  - \\beta_2 T_1  }}dQ(T_1).\n",
        "\\end{eqnarray}\n",
        "Thus,\n",
        "$$\n",
        "dQ(T) = \\sigma_1 e^{-\\beta_1 T}dz_1 + \\sigma_2 e^{-\\beta_2 T}dz_2\n",
        "=  \\frac{e^{-\\beta_2 T_2 - \\beta_1 T}-e^{-\\beta_1 T_2 - \\beta_2 T}}{e^{-\\beta_1 T_1  - \\beta_2 T_2 } - e^{-\\beta_1 T_2  - \\beta_2 T_1  }}  dQ(T_1) \\Rightarrow \\frac{\\partial Q(T)}{\\partial Q(T_1)} = \\frac{e^{-\\beta_2 T_2 - \\beta_1 T}-e^{-\\beta_1 T_2 - \\beta_2 T}}{e^{-\\beta_1 T_1  - \\beta_2 T_2 } - e^{-\\beta_1 T_2  - \\beta_2 T_1  }}.\n",
        "$$\n",
        "Similarly, for $Q(T_2)$ shocked and $Q(T_1)$ fixed,\n",
        "$$\n",
        "\\frac{\\partial Q(T)}{\\partial Q(T_2)} = \\frac{e^{-\\beta_1 T_1 - \\beta_2 T}-e^{-\\beta_2 T_1 - \\beta_1 T}}{e^{-\\beta_1 T_1  - \\beta_2 T_2  } - e^{-\\beta_1 T_2  - \\beta_2 T_1 } }.\n",
        "$$\n",
        "\n",
        "-------------------------\n",
        "\n",
        "We briefly tabulate the results below,\n",
        "\n",
        "|  |  Trianglar shock  |   Factor Model shock |\n",
        "|:------|------|------|\n",
        "|$\\frac{\\partial Q(T)}{\\partial Q(T_1)}$|$\\frac{T_2-\\max{(T,T_1)}}{T_2-T_1}$|$\\frac{e^{-\\beta_2 T_2 - \\beta_1 T}-e^{-\\beta_1 T_2 - \\beta_2 T}}{e^{-\\beta_1 T_1  - \\beta_2 T_2 } - e^{-\\beta_1 T_2  - \\beta_2 T_1  }}$|\n",
        "|$\\frac{\\partial Q(T)}{\\partial Q(T_2)}$|$\\frac{\\min{(T,T_2)}-T_1}{T_2-T_1}$|$\\frac{e^{-\\beta_1 T_1 - \\beta_2 T}-e^{-\\beta_2 T_1 - \\beta_1 T}}{e^{-\\beta_1 T_1  - \\beta_2 T_2  } - e^{-\\beta_1 T_2  - \\beta_2 T_1 } }$|\n",
        "\n",
        "Note that, interestingly, the factor model shock is reduced to the triangular shock in the limit $\\beta_1,\\beta_2\\rightarrow 0$, i.e. the limit of weakly decaying shocks:\n",
        "\\begin{eqnarray}\n",
        "\\frac{e^{-\\beta_2 T_2 - \\beta_1 T}-e^{-\\beta_1 T_2 - \\beta_2 T}}{e^{-\\beta_1 T_1  - \\beta_2 T_2 } - e^{-\\beta_1 T_2  - \\beta_2 T_1  }} \\rightarrow \\frac{T_2-T}{T_2-T_1},\\\\\n",
        "\\frac{e^{-\\beta_1 T_1 - \\beta_2 T}-e^{-\\beta_2 T_1 - \\beta_1 T}}{e^{-\\beta_1 T_1  - \\beta_2 T_2  } - e^{-\\beta_1 T_2  - \\beta_2 T_1 } }\\rightarrow \\frac{T-T_1}{T_2-T_1}.\n",
        "\\end{eqnarray}\n",
        "\n",
        "-------------------------"
      ],
      "metadata": {
        "id": "CTG_gHGsrk4S"
      }
    },
    {
      "cell_type": "markdown",
      "source": [
        "### * Monte Carlo simulation for relative value ( unhedged vs currency interest rate curve shock vs triangular shock)"
      ],
      "metadata": {
        "id": "NkrnZQuLrk4T"
      }
    },
    {
      "cell_type": "markdown",
      "source": [
        "Let spot = 1, asset currency interest rate curve = $Q(T)$ = flat at 3%, and denominated currency interest rate curve = $R(T)$ = flat at 0%. We assume two benchmark dates, $T_1$ = 0.25y and $T_2$ = 1y; we will use forwards to those settlement dates to hedge the forward rate risk (or equivalently, the risk to moves in the asset currency interest rate) of our portfolio.\n",
        "\n",
        "In the toy market, we assume that we know the dynamics of the asset currency interest rate:\n",
        "\\begin{eqnarray}\n",
        "&& dQ = \\sigma_1 e^{-\\beta_1 T}dz_1 + \\sigma_2 e^{-\\beta_2 T}dz_2,\\\\\n",
        "&& \\mathbb{E}[dz_1 dz_2] = \\rho dt,\n",
        "\\end{eqnarray}\n",
        "where $\\sigma_1 = 1\\%/\\sqrt{\\text{year}}$, $\\sigma_2 = 0.8\\%/\\sqrt{\\text{year}}$, $\\beta_1 = 0.5/\\text{year}$, $\\beta_2 = 0.1/\\text{year}$, and $\\rho = -0.4$.\n",
        "\n",
        ">$\\sigma\\sqrt{\\text{T}} = 0.8\\%$, $d_2=d_1-\\sigma\\sqrt{\\text{T}}$\n",
        "\n",
        "The portfolio to hedge has one position: a unit asset-currency notional of a forward contract settling at time $T$. You’ll try this for values of $T$ in [0.1,0.25,0.5,0.75,1,2] to see how performance changes for portfolios with risk to different tenors.\n",
        "\n",
        "Simulate the portfolio forward a time $dt=0.001\\text{y}$. That will result in the asset-currency rates moving according to the factor model described above, which shocks the benchmark rates for tenors $T_1$ and $T_2$, and for the portfolio’s risk tenor T. Construct the PNL distributions for the three hedging approaches. Use unhedged version as benchmark, compare how much more effectively the PNL standard deviation is reduced by hedging according to the true factors vs hedging according to the ad hoc triangle shocks."
      ],
      "metadata": {
        "id": "vJTd86K8rk4U"
      }
    },
    {
      "cell_type": "code",
      "source": [
        "import math\n",
        "import scipy\n",
        "import pandas"
      ],
      "metadata": {
        "id": "rLdkcixark4V"
      },
      "execution_count": null,
      "outputs": []
    },
    {
      "cell_type": "code",
      "execution_count": null,
      "metadata": {
        "collapsed": true,
        "id": "Ia-YB41Irk4W"
      },
      "outputs": [],
      "source": [
        "class BenchmarkShockSimulator:\n",
        "    \"\"\"\n",
        "        A Monte Carlo simulation of a hedged portfolio:\n",
        "            1) long an FX forward settling at time T,\n",
        "            2) short an FX forward settling at time T1,\n",
        "            3) short an FX forward settling at time T2,\n",
        "        where asset currency is some non-USD interest rate,\n",
        "              denominated currency is USD interest rate.\n",
        "        The rate curve moves according to either\n",
        "            1) a triangular prescription,\n",
        "            2) or a parametric 2-factor model.\n",
        "    \"\"\"\n",
        "\n",
        "    def __init__(self, sigma1, sigma2, beta1, beta2, rho, T1, T2, Q):\n",
        "        \"\"\"\n",
        "            sigma1: the volatility of the first shock factor\n",
        "            sigma2: the volatility of the second shock factor\n",
        "            beta1:  the decaying parameter of the first shock factor\n",
        "            beta2:  the decaying parameter of the second shock factor\n",
        "            rho:    the correlation between the two shock factors\n",
        "            T1:     the time to settlement of the first benchmark forward tenor\n",
        "            T2:     the time to settlement of the second benchmark forward tenor\n",
        "            Q:      the initial (background) asset currency forward curve, assumed to be flat\n",
        "        \"\"\"\n",
        "\n",
        "        if T1 >= T2:\n",
        "            raise ValueError('Time order T1<T2 is not imposed!')\n",
        "\n",
        "        self.sigma1 = sigma1\n",
        "        self.sigma2 = sigma2\n",
        "        self.beta1 = beta1\n",
        "        self.beta2 = beta2\n",
        "        self.rho = rho\n",
        "        self.T1 = T1\n",
        "        self.T2 = T2\n",
        "        self.Q = Q\n",
        "\n",
        "    def run(self, spot, T, dt, nRuns, hedge, seed, debug=False):\n",
        "        \"\"\"\n",
        "            spot:  spot price of asset\n",
        "            T:     the settling time of asset-currency notional of a forward contract in portfolio\n",
        "            dt:    width of a single time step of simulation\n",
        "            nRuns: number of instantiations of paths\n",
        "            hedge: 'None' for no hedge;\n",
        "                   'Triangle' for hedging by triangular shocks;\n",
        "                   'Factor' for hedging by factor models specified for shock evolution.\n",
        "        \"\"\"\n",
        "\n",
        "        # setup hedging notionals\n",
        "        if hedge is None:\n",
        "            N1 = N2 = 0\n",
        "        elif hedge == 'Triangle':\n",
        "            if T <= self.T1:\n",
        "                N1 = 1\n",
        "                N2 = 0\n",
        "            elif T >= self.T2:\n",
        "                N1 = 0\n",
        "                N2 = 1\n",
        "            else:\n",
        "                N1 = (self.T2 - T) / (self.T2 - self.T1)\n",
        "                N2 = (T - self.T1) / (self.T2 - self.T1)\n",
        "        elif hedge == 'Factor':\n",
        "            N1 = (math.exp(-self.beta2 * self.T2 - self.beta1 * T)-math.exp(-self.beta1 * self.T2 - self.beta2 * T))/(math.exp(-self.beta1 * self.T1 - self.beta2 * self.T2)-math.exp(-self.beta1 * self.T2 - self.beta2 * self.T1))\n",
        "            N2 = (math.exp(-self.beta1 * self.T1 - self.beta2 * T)-math.exp(-self.beta2 * self.T1 - self.beta1 * T))/(math.exp(-self.beta1 * self.T1 - self.beta2 * self.T2)-math.exp(-self.beta1 * self.T2 - self.beta2 * self.T1))\n",
        "        else:\n",
        "            raise ValueError('Hedge type must be 1) None 2) Triangle 3) Factor')\n",
        "\n",
        "        N1 *= (T / self.T1) * math.exp(-self.Q * (T - self.T1))\n",
        "        N2 *= (T / self.T2) * math.exp(-self.Q * (T - self.T2))\n",
        "\n",
        "        # generate instances of shocks\n",
        "        scipy.random.seed(seed)\n",
        "        sqrtdt = math.sqrt(dt)\n",
        "        # independent Brownian shocks\n",
        "        dw1 = scipy.random.normal(0, sqrtdt, nRuns)\n",
        "        dw2 = scipy.random.normal(0, sqrtdt, nRuns)\n",
        "        # correlated Brownian shocks by rho\n",
        "        dz1 = dw1\n",
        "        dz2 = self.rho * dw1 + math.sqrt(1 - self.rho * self.rho) * dw2\n",
        "\n",
        "        dQT = self.sigma1 * math.exp(-self.beta1 * T)  * dz1 + self.sigma2 * math.exp(-self.beta2 * T)  * dz2\n",
        "        dQ1 = self.sigma1 * math.exp(-self.beta1 * self.T1) * dz1 + self.sigma2 * math.exp(-self.beta2 * self.T1) * dz2\n",
        "        dQ2 = self.sigma1 * math.exp(-self.beta1 * self.T2) * dz1 + self.sigma2 * math.exp(-self.beta2 * self.T2) * dz2\n",
        "\n",
        "        # calculate the portfolio PnLs under the rate shocks\n",
        "        # Note: in the second exp function, needs to use scipy version to vectorize.\n",
        "        pnls = spot * math.exp(-self.Q * T) * (scipy.exp(-dQT * T) - 1)\n",
        "        pnls -= N1 * spot * math.exp(-self.Q * self.T1) * (scipy.exp(-dQ1 * T1) - 1)\n",
        "        pnls -= N2 * spot * math.exp(-self.Q * self.T2) * (scipy.exp(-dQ2 * T2) - 1)\n",
        "\n",
        "        return (pnls.mean(), pnls.std())\n"
      ]
    },
    {
      "cell_type": "code",
      "execution_count": null,
      "metadata": {
        "collapsed": true,
        "id": "xbIE5DUHrk4X"
      },
      "outputs": [],
      "source": [
        "# Static parameters\n",
        "sigma1 = 0.01\n",
        "sigma2 = 0.008\n",
        "beta1 = 0.5\n",
        "beta2 = 0.1\n",
        "rho = -0.4\n",
        "T1 = 0.25\n",
        "T2 = 1\n",
        "Q = 0.03"
      ]
    },
    {
      "cell_type": "code",
      "execution_count": null,
      "metadata": {
        "collapsed": true,
        "id": "Teh8x3cRrk4Z"
      },
      "outputs": [],
      "source": [
        "# Create simulator\n",
        "sim = BenchmarkShockSimulator(sigma1, sigma2, beta1, beta2, rho, T1, T2, Q)"
      ]
    },
    {
      "cell_type": "code",
      "execution_count": null,
      "metadata": {
        "collapsed": true,
        "id": "ZNl7IvHQrk4Z"
      },
      "outputs": [],
      "source": [
        "# Simulation parameters\n",
        "spot = 1\n",
        "dt = 1e-3\n",
        "nRuns = 100000\n",
        "seed = 1\n",
        "Ts = [0.1, 0.25, 0.5, 0.75, 1, 2]\n",
        "hedgeTypes = [None,'Triangle','Factor']\n",
        "\n",
        "df = pandas.DataFrame()\n",
        "df['T'] = Ts"
      ]
    },
    {
      "cell_type": "code",
      "execution_count": null,
      "metadata": {
        "collapsed": true,
        "id": "d8OVG-Vxrk4a"
      },
      "outputs": [],
      "source": [
        "# Run simulations\n",
        "for hedgeType in hedgeTypes:\n",
        "    # choose a nice name for each hedge type\n",
        "    if hedgeType is None:\n",
        "        hedgeTypeName = 'No Hedge'\n",
        "    else:\n",
        "        hedgeTypeName = hedgeType\n",
        "\n",
        "    # run experiments for different settling times\n",
        "    stds = []\n",
        "    for T in Ts:\n",
        "        mean, std = sim.run(spot, T, dt, nRuns, hedgeType, seed)\n",
        "        stds.append(std*1e3)\n",
        "\n",
        "    df[hedgeTypeName] = stds"
      ]
    },
    {
      "cell_type": "code",
      "execution_count": null,
      "metadata": {
        "outputId": "7c9c481a-346a-46e9-c7d7-5889c72785d1",
        "id": "ylAkxRAyrk4b"
      },
      "outputs": [
        {
          "data": {
            "text/html": [
              "<div>\n",
              "<table border=\"1\" class=\"dataframe\">\n",
              "  <thead>\n",
              "    <tr style=\"text-align: right;\">\n",
              "      <th></th>\n",
              "      <th>T</th>\n",
              "      <th>No Hedge</th>\n",
              "      <th>Triangle</th>\n",
              "      <th>Factor</th>\n",
              "      <th>Triangle efficiency</th>\n",
              "      <th>Factor efficiency</th>\n",
              "    </tr>\n",
              "  </thead>\n",
              "  <tbody>\n",
              "    <tr>\n",
              "      <th>0</th>\n",
              "      <td>0.10</td>\n",
              "      <td>0.030238</td>\n",
              "      <td>0.002042</td>\n",
              "      <td>0.000000</td>\n",
              "      <td>0.932486</td>\n",
              "      <td>0.999988</td>\n",
              "    </tr>\n",
              "    <tr>\n",
              "      <th>1</th>\n",
              "      <td>0.25</td>\n",
              "      <td>0.071404</td>\n",
              "      <td>0.000000</td>\n",
              "      <td>0.000000</td>\n",
              "      <td>1.000000</td>\n",
              "      <td>1.000000</td>\n",
              "    </tr>\n",
              "    <tr>\n",
              "      <th>2</th>\n",
              "      <td>0.50</td>\n",
              "      <td>0.130707</td>\n",
              "      <td>0.001792</td>\n",
              "      <td>0.000001</td>\n",
              "      <td>0.986290</td>\n",
              "      <td>0.999990</td>\n",
              "    </tr>\n",
              "    <tr>\n",
              "      <th>3</th>\n",
              "      <td>0.75</td>\n",
              "      <td>0.180956</td>\n",
              "      <td>0.002558</td>\n",
              "      <td>0.000002</td>\n",
              "      <td>0.985864</td>\n",
              "      <td>0.999990</td>\n",
              "    </tr>\n",
              "    <tr>\n",
              "      <th>4</th>\n",
              "      <td>1.00</td>\n",
              "      <td>0.224536</td>\n",
              "      <td>0.000000</td>\n",
              "      <td>0.000000</td>\n",
              "      <td>1.000000</td>\n",
              "      <td>1.000000</td>\n",
              "    </tr>\n",
              "    <tr>\n",
              "      <th>5</th>\n",
              "      <td>2.00</td>\n",
              "      <td>0.361658</td>\n",
              "      <td>0.130804</td>\n",
              "      <td>0.000033</td>\n",
              "      <td>0.638321</td>\n",
              "      <td>0.999909</td>\n",
              "    </tr>\n",
              "  </tbody>\n",
              "</table>\n",
              "</div>"
            ],
            "text/plain": [
              "      T  No Hedge  Triangle    Factor  Triangle efficiency  Factor efficiency\n",
              "0  0.10  0.030238  0.002042  0.000000             0.932486           0.999988\n",
              "1  0.25  0.071404  0.000000  0.000000             1.000000           1.000000\n",
              "2  0.50  0.130707  0.001792  0.000001             0.986290           0.999990\n",
              "3  0.75  0.180956  0.002558  0.000002             0.985864           0.999990\n",
              "4  1.00  0.224536  0.000000  0.000000             1.000000           1.000000\n",
              "5  2.00  0.361658  0.130804  0.000033             0.638321           0.999909"
            ]
          },
          "execution_count": 70,
          "metadata": {},
          "output_type": "execute_result"
        }
      ],
      "source": [
        "# display the standard deviations in units of 10^-3.\n",
        "df['Triangle efficiency'] = 1-df['Triangle']/df['No Hedge']\n",
        "df['Factor efficiency'] = 1-df['Factor']/df['No Hedge']\n",
        "df.round(6)"
      ]
    },
    {
      "cell_type": "markdown",
      "source": [
        " The declining in the curve backend is beccause the assumption of forward curve moving in parallel in the backend (from 1y outward) is unrealistic. In fact, the backend of the forward curve responds to a less extent to the shocks than the front end does, the 2y tenor will move less than the 1y tenor. As a consequence, the triangular shock model over-estimates the hedging notional on 1y tenor.\n",
        "\n",
        "The factor model hedging essentially offsets all movements in $Q(T)$ (>0.9999). This is expected because the shocks are hedged in exactly the same way they are generated, according to the 2-factor stochastic differential equations."
      ],
      "metadata": {
        "id": "W5iswNFJrk4c"
      }
    },
    {
      "cell_type": "markdown",
      "metadata": {
        "id": "DaG9D6gtrk4d"
      },
      "source": [
        "### Principal component analysis and factor models are two different methods for reducing dimensionality in a high-dimensional system:\n",
        "\n",
        "\n",
        "\n",
        "| Features |  Principle Component Analysis (PCA)   |   Factor Models |\n",
        "|:------|------|------|\n",
        "| Parameters     | Non-Parametric |  Parametric, parameterized by $\\sigma_1, \\sigma_2, \\beta_1, \\beta_2, \\rho$, etc.    |\n",
        "|General idea|Discovering the main factors driving the moves in the interest rate curve|Fitting historical behavior to a prescribed parametric form of factors|\n",
        "| Methodology | Calculating the historical covariances of daily changes in interest rates of different tenors, then orthogonalizing the covariance matrix|Solving stochastic differential equation driving interest rates of different tenors, the computing the covariance matrix analytically in terms of the parameters|\n",
        "| Shocks to curve | Eigenvectors of historical covariance matrix of daily changes in different tenors, representing othogonal shocks to curve | Shocked by a small number of Brownian motion factors in a stochastic differential equation driving different tenors|\n",
        "|How to reduce dimensionality|Picking off the largest few eigenvalues and approximating all moves in the curves as being linear combinations of the respective eigenvectors|A few parametric factor in the model specification|\n",
        "|Shape of shocks|Non-parametric output of the calculation|Determined by the model parameters, for example, exponential shocks|\n",
        "|Strength|Flexibile in terms of shape of the shocks|Robust in evaluating the shocks and easier for traders to understand|\n",
        "|Weakness|Less robust (historical data artifacts can lead to weird shapes)|Less flexibile in capturing shocks|"
      ]
    }
  ]
}